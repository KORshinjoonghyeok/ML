{
 "cells": [
  {
   "cell_type": "markdown",
   "metadata": {},
   "source": [
    "### 1. Accuracy (정확도)"
   ]
  },
  {
   "cell_type": "code",
   "execution_count": 1,
   "metadata": {},
   "outputs": [],
   "source": [
    "import numpy as np\n",
    "import pandas as pd\n",
    "\n",
    "from sklearn.base import BaseEstimator # 가장 기본 추정기"
   ]
  },
  {
   "cell_type": "code",
   "execution_count": 2,
   "metadata": {},
   "outputs": [],
   "source": [
    "# 간단 분류 알고리즘 클래스 생성\n",
    "# 간단한 알고리듬이지만 정확도만 가지고 성능평가하면 안된다.\n",
    "class MyDummyClf(BaseEstimator):\n",
    "#     pass # 재사용\n",
    "    # fit() 메소드를 정의(선언) : 아무것도 안한다.\n",
    "    # X : 학습데이터, y : 학습데이터 답\n",
    "    def fit(self, X, y=None):  \n",
    "        pass\n",
    "    \n",
    "    # X : 예측할 테스트 데이터 , 타이타닉 데이터프레임\n",
    "    def predict(self, X):\n",
    "        # np.zeros() => ndarray 생성 , 0으로 채운다\n",
    "        pred = np.zeros((X.shape[0],1)) # X를 저장할 수 있는 공간\n",
    "        for i in range(X.shape[0]):\n",
    "            if X['Sex'].iloc[i] == 1:\n",
    "                pred[i] = 0\n",
    "            else:\n",
    "                pred[i] = 1\n",
    "        return pred"
   ]
  },
  {
   "cell_type": "code",
   "execution_count": 3,
   "metadata": {},
   "outputs": [],
   "source": [
    "# Age, Cabin, Embarked, Fare => Null 처리 함수 \n",
    "# DataFrame object => fillna() method\n",
    "def fillna_df(df):\n",
    "    '''Age => mean()'''\n",
    "    df['Age'].fillna(df['Age'].mean(), inplace=True)\n",
    "    df['Cabin'].fillna('N', inplace=True)\n",
    "    df['Embarked'].fillna('N', inplace=True)\n",
    "    df['Fare'].fillna(0, inplace=True)\n",
    "    \n",
    "    return df"
   ]
  },
  {
   "cell_type": "code",
   "execution_count": 4,
   "metadata": {},
   "outputs": [],
   "source": [
    "# 불필요한 컬럼 제거 function\n",
    "def drop_features(df):\n",
    "    df.drop(['PassengerId','Name','Ticket']\n",
    "            , axis=1\n",
    "            , inplace=True\n",
    "           )\n",
    "    return df"
   ]
  },
  {
   "cell_type": "code",
   "execution_count": 5,
   "metadata": {},
   "outputs": [],
   "source": [
    "# Cabin, Sex, Embarked 레이블 인코딩 함수\n",
    "# Cabin : C85 => C => 레이블 인코딩 진행 필요\n",
    "from sklearn.preprocessing import LabelEncoder\n",
    "\n",
    "def format_features(df):\n",
    "    df['Cabin'] = df['Cabin'].str[:1] # Cabin : C85 => C \n",
    "    features=['Cabin','Sex','Embarked']\n",
    "    \n",
    "    for feature in features:\n",
    "        le = LabelEncoder()\n",
    "        le = le.fit(df[feature])\n",
    "        df[feature] = le.transform(df[feature])\n",
    "    \n",
    "    return df"
   ]
  },
  {
   "cell_type": "code",
   "execution_count": 6,
   "metadata": {},
   "outputs": [],
   "source": [
    "# 앞에서 선언한 함수를 다 적용하는 함수\n",
    "def transform_features(df):\n",
    "    df = fillna_df(df) # Null 채우기\n",
    "    df = drop_features(df) # 필요없는 컬럼 삭제\n",
    "    df = format_features(df) # 인코딩 \n",
    "    return df"
   ]
  },
  {
   "cell_type": "code",
   "execution_count": 7,
   "metadata": {},
   "outputs": [
    {
     "data": {
      "text/plain": [
       "0.7877094972067039"
      ]
     },
     "execution_count": 7,
     "metadata": {},
     "output_type": "execute_result"
    }
   ],
   "source": [
    "# MyDummyClf class => 성능 평가\n",
    "from sklearn.model_selection import train_test_split\n",
    "from sklearn.metrics import accuracy_score\n",
    "\n",
    "# 데이터 로딩\n",
    "titanic_df = pd.read_csv('../data/titanic_train.csv')\n",
    "\n",
    "# 데이터와 답을 분리\n",
    "y_tit_df = titanic_df['Survived'] # 답\n",
    "X_tit_df = titanic_df.drop('Survived', axis=1) # 데이터\n",
    "\n",
    "# 데이터 전처리\n",
    "X_tit_df = transform_features(X_tit_df)\n",
    "\n",
    "# 학습데이터와 테스트데이터 분리\n",
    "X_train, X_test, y_train, y_test=\\\n",
    "train_test_split(\n",
    "      X_tit_df # 분리할 데이터 (학습할 데이터/테스트할 데이터) \n",
    "    , y_tit_df # 분리할 답 (학습할 답 / 테스트 답)\n",
    "    , test_size=0.2\n",
    "    , random_state=0\n",
    ")\n",
    "\n",
    "# 1. 모델 객체 생성\n",
    "myclf = MyDummyClf()\n",
    "\n",
    "# 2. 학습\n",
    "myclf.fit(X_train, y_train)\n",
    "\n",
    "# 3. 예측값 추출\n",
    "mypred = myclf.predict(X_test)\n",
    "\n",
    "# 4. 정확도 출력\n",
    "accuracy_score(y_test, mypred)"
   ]
  },
  {
   "cell_type": "markdown",
   "metadata": {},
   "source": [
    "#### 불균형한 데이터 정확도 예측, 성능 평가"
   ]
  },
  {
   "cell_type": "code",
   "execution_count": 8,
   "metadata": {},
   "outputs": [],
   "source": [
    "# 0 ~ 9 값을 임의 데이터 생성하는 함수\n",
    "from sklearn.datasets import load_digits \n",
    "\n",
    "digits = load_digits()"
   ]
  },
  {
   "cell_type": "code",
   "execution_count": 9,
   "metadata": {},
   "outputs": [
    {
     "data": {
      "text/plain": [
       "1797"
      ]
     },
     "execution_count": 9,
     "metadata": {},
     "output_type": "execute_result"
    }
   ],
   "source": [
    "len(digits.target) # 0 ~ 9 까지 숫자 저장"
   ]
  },
  {
   "cell_type": "code",
   "execution_count": 10,
   "metadata": {},
   "outputs": [],
   "source": [
    "digits_Ser = pd.Series(digits.target)"
   ]
  },
  {
   "cell_type": "code",
   "execution_count": 11,
   "metadata": {},
   "outputs": [
    {
     "data": {
      "text/plain": [
       "3    183\n",
       "5    182\n",
       "1    182\n",
       "6    181\n",
       "4    181\n",
       "9    180\n",
       "7    179\n",
       "0    178\n",
       "2    177\n",
       "8    174\n",
       "dtype: int64"
      ]
     },
     "execution_count": 11,
     "metadata": {},
     "output_type": "execute_result"
    }
   ],
   "source": [
    "digits_Ser.value_counts()"
   ]
  },
  {
   "cell_type": "code",
   "execution_count": 12,
   "metadata": {},
   "outputs": [],
   "source": [
    "# 불규형 데이터 생성\n",
    "y = (digits.target == 7).astype(int)\n",
    "# digits.target == 7 => True.astype(int) => 1\n",
    "# \n",
    "# digits.target != 7 => False.astype(int) => 0"
   ]
  },
  {
   "cell_type": "code",
   "execution_count": 13,
   "metadata": {},
   "outputs": [],
   "source": [
    "# 데이터와 답을 학습데이터와 테스트데이터를 분리 \n",
    "# 데이터 : digists.data\n",
    "# 답 : y (불규형 데이터)\n",
    "X_train, X_test, y_train, y_test = \\\n",
    "train_test_split(\n",
    "      digits.data # 전체 데이터 \n",
    "    , y           # 전체 답\n",
    "    , random_state=0\n",
    ")"
   ]
  },
  {
   "cell_type": "code",
   "execution_count": 14,
   "metadata": {},
   "outputs": [
    {
     "data": {
      "text/plain": [
       "numpy.ndarray"
      ]
     },
     "execution_count": 14,
     "metadata": {},
     "output_type": "execute_result"
    }
   ],
   "source": [
    "type(y_test)"
   ]
  },
  {
   "cell_type": "code",
   "execution_count": 15,
   "metadata": {},
   "outputs": [
    {
     "name": "stdout",
     "output_type": "stream",
     "text": [
      "레이블 테스트 세트 크기 (450,)\n",
      "테스트 세트의 레이블 분포값\n",
      "0    402\n",
      "1     48\n",
      "dtype: int64\n"
     ]
    }
   ],
   "source": [
    "# 불규형한 레이블 데이터 분포\n",
    "print('레이블 테스트 세트 크기', y_test.shape)\n",
    "print('테스트 세트의 레이블 분포값')\n",
    "print(pd.Series(y_test).value_counts())"
   ]
  },
  {
   "cell_type": "code",
   "execution_count": 16,
   "metadata": {},
   "outputs": [],
   "source": [
    "class MyFakeClf(BaseEstimator):\n",
    "    def fit(self, X, y): #학습 X\n",
    "        pass\n",
    "    \n",
    "    def predict(self, X):\n",
    "        return np.zeros((len(X),1), dtype=bool)"
   ]
  },
  {
   "cell_type": "code",
   "execution_count": 17,
   "metadata": {},
   "outputs": [
    {
     "data": {
      "text/plain": [
       "0.8933333333333333"
      ]
     },
     "execution_count": 17,
     "metadata": {},
     "output_type": "execute_result"
    }
   ],
   "source": [
    "# 모델 생성, 학습 , 예측, 평가\n",
    "fakeclf = MyFakeClf()\n",
    "fakeclf.fit(X_train, y_train)\n",
    "fakepred = fakeclf.predict(X_test)\n",
    "accuracy_score(y_test, fakepred)"
   ]
  },
  {
   "cell_type": "markdown",
   "metadata": {},
   "source": [
    "### 2. Confusion Matrix(오차 행렬)"
   ]
  },
  {
   "cell_type": "code",
   "execution_count": 18,
   "metadata": {},
   "outputs": [
    {
     "data": {
      "text/plain": [
       "array([[402,   0],\n",
       "       [ 48,   0]], dtype=int64)"
      ]
     },
     "execution_count": 18,
     "metadata": {},
     "output_type": "execute_result"
    }
   ],
   "source": [
    "from sklearn.metrics import confusion_matrix\n",
    "\n",
    "# y_test : 실제 답 , fakepred : 예측 값\n",
    "confusion_matrix(y_test, fakepred)"
   ]
  },
  {
   "cell_type": "markdown",
   "metadata": {},
   "source": [
    "### 3. 정밀도, 재현율"
   ]
  },
  {
   "cell_type": "code",
   "execution_count": 19,
   "metadata": {},
   "outputs": [],
   "source": [
    "import numpy as np\n",
    "import pandas as pd\n",
    "from sklearn.metrics import accuracy_score\n",
    "from sklearn.metrics import precision_score\n",
    "from sklearn.metrics import recall_score\n",
    "from sklearn.metrics import confusion_matrix"
   ]
  },
  {
   "cell_type": "code",
   "execution_count": 24,
   "metadata": {},
   "outputs": [],
   "source": [
    "# 결과 : 정확도, 오차행렬, 정밀도, 재현율\n",
    "# 파라미터(재료) : 원래답(y_test), 예측값(pred)\n",
    "def get_clf_eval(y_test, pred):\n",
    "    confusion = confusion_matrix(y_test, pred) # 오차행렬\n",
    "    accu = accuracy_score(y_test, pred) # 정확도\n",
    "    precision = precision_score(y_test, pred) # 정밀도\n",
    "    recall = recall_score(y_test, pred) # 재현율\n",
    "    print('오차 행렬')\n",
    "    print(confusion)\n",
    "    result = '정확도 : {0:.4f}, 정밀도 : {1:.4f}, 재현율 : {2:.4f}'\n",
    "    print(result.format(accu, precision, recall))"
   ]
  },
  {
   "cell_type": "code",
   "execution_count": 21,
   "metadata": {},
   "outputs": [],
   "source": [
    "# LogisticRegression(이진분류 알고리즘)\n",
    "from sklearn.model_selection import train_test_split\n",
    "from sklearn.linear_model import LogisticRegression"
   ]
  },
  {
   "cell_type": "code",
   "execution_count": 22,
   "metadata": {},
   "outputs": [],
   "source": [
    "# 타이타닉 데이터 로딩, 데이터 가공, 데이터 분리\n",
    "titanic_df = pd.read_csv('../data/titanic_train.csv')\n",
    "\n",
    "# 답 데이터 추출\n",
    "y_tit_df = titanic_df['Survived']\n",
    "\n",
    "# 답을 제외한 데이터 추출\n",
    "X_tit_df = titanic_df.drop('Survived', axis=1)\n",
    "\n",
    "# 데이터 가공(전처리)\n",
    "X_tit_df = transform_features(X_tit_df)\n",
    "\n",
    "# 데이터 분리(학습, 테스트)\n",
    "X_train, X_test, y_train, y_test = \\\n",
    "train_test_split(\n",
    "      X_tit_df\n",
    "    , y_tit_df\n",
    "    , test_size=0.2\n",
    "    , random_state=0\n",
    ")"
   ]
  },
  {
   "cell_type": "code",
   "execution_count": 25,
   "metadata": {},
   "outputs": [
    {
     "name": "stdout",
     "output_type": "stream",
     "text": [
      "오차 행렬\n",
      "[[92 18]\n",
      " [16 53]]\n",
      "정확도 : 0.8101, 정밀도 : 0.7465, 재현율 : 0.7681\n"
     ]
    },
    {
     "name": "stderr",
     "output_type": "stream",
     "text": [
      "C:\\Users\\TJ\\anaconda3\\envs\\ml01-02\\lib\\site-packages\\sklearn\\linear_model\\_logistic.py:764: ConvergenceWarning: lbfgs failed to converge (status=1):\n",
      "STOP: TOTAL NO. of ITERATIONS REACHED LIMIT.\n",
      "\n",
      "Increase the number of iterations (max_iter) or scale the data as shown in:\n",
      "    https://scikit-learn.org/stable/modules/preprocessing.html\n",
      "Please also refer to the documentation for alternative solver options:\n",
      "    https://scikit-learn.org/stable/modules/linear_model.html#logistic-regression\n",
      "  extra_warning_msg=_LOGISTIC_SOLVER_CONVERGENCE_MSG)\n"
     ]
    }
   ],
   "source": [
    "# 모델 생성, 학습, 예측, 평가\n",
    "# 모델 생성\n",
    "lr_clf = LogisticRegression()\n",
    "\n",
    "# 학습\n",
    "lr_clf.fit(X_train, y_train)\n",
    "\n",
    "# 예측\n",
    "pred = lr_clf.predict(X_test)\n",
    "\n",
    "# 평가\n",
    "get_clf_eval(y_test, pred)"
   ]
  },
  {
   "cell_type": "code",
   "execution_count": 27,
   "metadata": {},
   "outputs": [
    {
     "data": {
      "text/plain": [
       "0    110\n",
       "1     69\n",
       "Name: Survived, dtype: int64"
      ]
     },
     "execution_count": 27,
     "metadata": {},
     "output_type": "execute_result"
    }
   ],
   "source": [
    "y_test.value_counts()"
   ]
  },
  {
   "cell_type": "markdown",
   "metadata": {},
   "source": [
    "#### 정밀도와 재현율의 트레이드오프"
   ]
  },
  {
   "cell_type": "code",
   "execution_count": 28,
   "metadata": {},
   "outputs": [
    {
     "data": {
      "text/plain": [
       "179"
      ]
     },
     "execution_count": 28,
     "metadata": {},
     "output_type": "execute_result"
    }
   ],
   "source": [
    "len(X_test)"
   ]
  },
  {
   "cell_type": "code",
   "execution_count": 29,
   "metadata": {},
   "outputs": [],
   "source": [
    "# 학습한 객체 : lr_clf\n",
    "# 179 X 2 ndarray return\n",
    "pred_proba = lr_clf.predict_proba(X_test)"
   ]
  },
  {
   "cell_type": "code",
   "execution_count": 35,
   "metadata": {},
   "outputs": [
    {
     "data": {
      "text/html": [
       "<div>\n",
       "<style scoped>\n",
       "    .dataframe tbody tr th:only-of-type {\n",
       "        vertical-align: middle;\n",
       "    }\n",
       "\n",
       "    .dataframe tbody tr th {\n",
       "        vertical-align: top;\n",
       "    }\n",
       "\n",
       "    .dataframe thead th {\n",
       "        text-align: right;\n",
       "    }\n",
       "</style>\n",
       "<table border=\"1\" class=\"dataframe\">\n",
       "  <thead>\n",
       "    <tr style=\"text-align: right;\">\n",
       "      <th></th>\n",
       "      <th>Pclass</th>\n",
       "      <th>Sex</th>\n",
       "      <th>Age</th>\n",
       "      <th>SibSp</th>\n",
       "      <th>Parch</th>\n",
       "      <th>Fare</th>\n",
       "      <th>Cabin</th>\n",
       "      <th>Embarked</th>\n",
       "    </tr>\n",
       "  </thead>\n",
       "  <tbody>\n",
       "    <tr>\n",
       "      <th>495</th>\n",
       "      <td>3</td>\n",
       "      <td>1</td>\n",
       "      <td>29.699118</td>\n",
       "      <td>0</td>\n",
       "      <td>0</td>\n",
       "      <td>14.4583</td>\n",
       "      <td>7</td>\n",
       "      <td>0</td>\n",
       "    </tr>\n",
       "    <tr>\n",
       "      <th>648</th>\n",
       "      <td>3</td>\n",
       "      <td>1</td>\n",
       "      <td>29.699118</td>\n",
       "      <td>0</td>\n",
       "      <td>0</td>\n",
       "      <td>7.5500</td>\n",
       "      <td>7</td>\n",
       "      <td>3</td>\n",
       "    </tr>\n",
       "  </tbody>\n",
       "</table>\n",
       "</div>"
      ],
      "text/plain": [
       "     Pclass  Sex        Age  SibSp  Parch     Fare  Cabin  Embarked\n",
       "495       3    1  29.699118      0      0  14.4583      7         0\n",
       "648       3    1  29.699118      0      0   7.5500      7         3"
      ]
     },
     "execution_count": 35,
     "metadata": {},
     "output_type": "execute_result"
    }
   ],
   "source": [
    "X_test.head(2)"
   ]
  },
  {
   "cell_type": "code",
   "execution_count": 36,
   "metadata": {},
   "outputs": [
    {
     "data": {
      "text/plain": [
       "array([0.89246256, 0.10753744])"
      ]
     },
     "execution_count": 36,
     "metadata": {},
     "output_type": "execute_result"
    }
   ],
   "source": [
    "pred_proba[1]"
   ]
  },
  {
   "cell_type": "code",
   "execution_count": 37,
   "metadata": {},
   "outputs": [],
   "source": [
    "pred = lr_clf.predict(X_test)"
   ]
  },
  {
   "cell_type": "code",
   "execution_count": 42,
   "metadata": {},
   "outputs": [
    {
     "data": {
      "text/plain": [
       "0"
      ]
     },
     "execution_count": 42,
     "metadata": {},
     "output_type": "execute_result"
    }
   ],
   "source": [
    "pred[0]"
   ]
  },
  {
   "cell_type": "code",
   "execution_count": 41,
   "metadata": {},
   "outputs": [
    {
     "data": {
      "text/plain": [
       "array([[0.85141076, 0.14858924, 0.        ],\n",
       "       [0.89246256, 0.10753744, 0.        ],\n",
       "       [0.93366403, 0.06633597, 0.        ],\n",
       "       [0.05373585, 0.94626415, 1.        ],\n",
       "       [0.31284875, 0.68715125, 1.        ],\n",
       "       [0.49150729, 0.50849271, 1.        ],\n",
       "       [0.08232064, 0.91767936, 1.        ],\n",
       "       [0.06478193, 0.93521807, 1.        ],\n",
       "       [0.41411799, 0.58588201, 1.        ],\n",
       "       [0.2914763 , 0.7085237 , 1.        ]])"
      ]
     },
     "execution_count": 41,
     "metadata": {},
     "output_type": "execute_result"
    }
   ],
   "source": [
    "pred_proba_result = \\\n",
    "np.concatenate([pred_proba, pred.reshape(-1,1)], axis=1)\n",
    "pred_proba_result[:10]"
   ]
  },
  {
   "cell_type": "code",
   "execution_count": 46,
   "metadata": {},
   "outputs": [
    {
     "data": {
      "text/plain": [
       "array([[0., 0., 1.],\n",
       "       [0., 0., 0.],\n",
       "       [0., 1., 0.]])"
      ]
     },
     "execution_count": 46,
     "metadata": {},
     "output_type": "execute_result"
    }
   ],
   "source": [
    "from sklearn.preprocessing import Binarizer\n",
    "\n",
    "bina = Binarizer(threshold=38)\n",
    "\n",
    "X = [\n",
    "      [36.5, 35, 38.5]\n",
    "    , [36.5, 36.5, 36.5]\n",
    "    , [36.5, 39, 36.5]\n",
    "]\n",
    "\n",
    "bina.fit_transform(X)"
   ]
  },
  {
   "cell_type": "code",
   "execution_count": 49,
   "metadata": {},
   "outputs": [
    {
     "data": {
      "text/plain": [
       "array([[0.14858924],\n",
       "       [0.10753744]])"
      ]
     },
     "execution_count": 49,
     "metadata": {},
     "output_type": "execute_result"
    }
   ],
   "source": [
    "# 임계값 설정\n",
    "custom_threshold = 0.5\n",
    "\n",
    "# [:, 1] => [행, 열]\n",
    "# 확률값의 두번째 컬럼(Positive) 추출, 2차원 변경\n",
    "pred_proba_1 = pred_proba[:,1].reshape(-1,1)\n",
    "pred_proba_1[:2]"
   ]
  },
  {
   "cell_type": "code",
   "execution_count": 50,
   "metadata": {},
   "outputs": [
    {
     "data": {
      "text/plain": [
       "array([[0.],\n",
       "       [0.],\n",
       "       [0.],\n",
       "       [1.],\n",
       "       [1.]])"
      ]
     },
     "execution_count": 50,
     "metadata": {},
     "output_type": "execute_result"
    }
   ],
   "source": [
    "# 학습 \n",
    "bina = Binarizer(threshold=custom_threshold).fit(pred_proba_1)\n",
    "# 변경\n",
    "cust_pred = bina.transform(pred_proba_1)\n",
    "cust_pred[:5]"
   ]
  },
  {
   "cell_type": "code",
   "execution_count": 51,
   "metadata": {},
   "outputs": [
    {
     "name": "stdout",
     "output_type": "stream",
     "text": [
      "[[0.]\n",
      " [0.]\n",
      " [0.]\n",
      " [1.]\n",
      " [1.]]\n"
     ]
    }
   ],
   "source": [
    "print(cust_pred[:5])"
   ]
  },
  {
   "cell_type": "code",
   "execution_count": 52,
   "metadata": {},
   "outputs": [
    {
     "name": "stdout",
     "output_type": "stream",
     "text": [
      "오차 행렬\n",
      "[[92 18]\n",
      " [16 53]]\n",
      "정확도 : 0.8101, 정밀도 : 0.7465, 재현율 : 0.7681\n"
     ]
    }
   ],
   "source": [
    "# 임계값 설정\n",
    "# custom_threshold = 0.5\n",
    "get_clf_eval(y_test, cust_pred)"
   ]
  },
  {
   "cell_type": "markdown",
   "metadata": {},
   "source": [
    "cust_th = 0.4\n",
    "오차 행렬\n",
    "[[86 24]\n",
    " [13 56]]\n",
    "정확도 : 0.7933, 정밀도 : 0.7000, 재현율 : 0.8116"
   ]
  },
  {
   "cell_type": "code",
   "execution_count": 53,
   "metadata": {},
   "outputs": [
    {
     "name": "stdout",
     "output_type": "stream",
     "text": [
      "오차 행렬\n",
      "[[86 24]\n",
      " [13 56]]\n",
      "정확도 : 0.7933, 정밀도 : 0.7000, 재현율 : 0.8116\n"
     ]
    }
   ],
   "source": [
    "# 임계값 설정\n",
    "custom_threshold = 0.4\n",
    "\n",
    "# [:, 1] => [행, 열]\n",
    "# 확률값의 두번째 컬럼(Positive) 추출, 2차원 변경\n",
    "pred_proba_1 = pred_proba[:,1].reshape(-1,1)\n",
    "pred_proba_1[:2]\n",
    "\n",
    "# 학습 \n",
    "bina = Binarizer(threshold=custom_threshold).fit(pred_proba_1)\n",
    "# 변경\n",
    "cust_pred = bina.transform(pred_proba_1)\n",
    "\n",
    "# 임계값 설정\n",
    "# custom_threshold = 0.4\n",
    "get_clf_eval(y_test, cust_pred)"
   ]
  },
  {
   "cell_type": "code",
   "execution_count": 54,
   "metadata": {},
   "outputs": [],
   "source": [
    "def get_eval_by_threshold(y_test, pred_proba_p, thresholds):\n",
    "    '''\n",
    "    y_test : 원래답\n",
    "    pred_proba_p : 결과 확률값\n",
    "    thresholds : 임계값 리스트\n",
    "    '''\n",
    "    for cust_th in thresholds:\n",
    "        bina = Binarizer(threshold=cust_th).fit(pred_proba_p)\n",
    "        cust_pred = bina.transform(pred_proba_p)\n",
    "        print('현재 임계값 : ' , cust_th)\n",
    "        get_clf_eval(y_test, cust_pred)\n"
   ]
  },
  {
   "cell_type": "code",
   "execution_count": 55,
   "metadata": {},
   "outputs": [
    {
     "name": "stdout",
     "output_type": "stream",
     "text": [
      "현재 임계값 :  0.4\n",
      "오차 행렬\n",
      "[[86 24]\n",
      " [13 56]]\n",
      "정확도 : 0.7933, 정밀도 : 0.7000, 재현율 : 0.8116\n",
      "현재 임계값 :  0.45\n",
      "오차 행렬\n",
      "[[91 19]\n",
      " [14 55]]\n",
      "정확도 : 0.8156, 정밀도 : 0.7432, 재현율 : 0.7971\n",
      "현재 임계값 :  0.5\n",
      "오차 행렬\n",
      "[[92 18]\n",
      " [16 53]]\n",
      "정확도 : 0.8101, 정밀도 : 0.7465, 재현율 : 0.7681\n",
      "현재 임계값 :  0.55\n",
      "오차 행렬\n",
      "[[97 13]\n",
      " [18 51]]\n",
      "정확도 : 0.8268, 정밀도 : 0.7969, 재현율 : 0.7391\n",
      "현재 임계값 :  0.6\n",
      "오차 행렬\n",
      "[[99 11]\n",
      " [25 44]]\n",
      "정확도 : 0.7989, 정밀도 : 0.8000, 재현율 : 0.6377\n"
     ]
    }
   ],
   "source": [
    "# 테스트를 수행할 임계값을 리스트 객체에 저장\n",
    "thresholds = [0.4,0.45,0.50,0.55,0.60]\n",
    "pred_proba_2 = pred_proba[:,1].reshape(-1,1)\n",
    "\n",
    "get_eval_by_threshold(y_test, pred_proba_2, thresholds)"
   ]
  },
  {
   "cell_type": "code",
   "execution_count": 56,
   "metadata": {},
   "outputs": [],
   "source": [
    "from sklearn.metrics import precision_recall_curve\n",
    "\n",
    "# 답이 1일때의 예측 확률 추출\n",
    "pred_proba_v = lr_clf.predict_proba(X_test)[:,1]\n",
    "\n",
    "# 데스트데이터 답(y_test), 예측확률(pred_proba_v)\n",
    "precisions, recalls, thresholds = \\\n",
    "precision_recall_curve(y_test, pred_proba_v)"
   ]
  },
  {
   "cell_type": "code",
   "execution_count": 58,
   "metadata": {},
   "outputs": [
    {
     "data": {
      "text/plain": [
       "(179, 166)"
      ]
     },
     "execution_count": 58,
     "metadata": {},
     "output_type": "execute_result"
    }
   ],
   "source": [
    "len(y_test), len(thresholds)"
   ]
  },
  {
   "cell_type": "code",
   "execution_count": 59,
   "metadata": {},
   "outputs": [
    {
     "data": {
      "text/plain": [
       "array([0.05935051, 0.06376036, 0.06633597, 0.06808817, 0.07005078,\n",
       "       0.0710077 , 0.07200104, 0.07715551, 0.08391321, 0.08571234,\n",
       "       0.08689512, 0.08768603, 0.09034097, 0.09098754, 0.09485004,\n",
       "       0.09632812, 0.09849203, 0.10077764, 0.10476162, 0.10749675,\n",
       "       0.10753744, 0.10758436, 0.10760528, 0.10768844, 0.10789315,\n",
       "       0.10848383, 0.10967401, 0.11047309, 0.11093682, 0.11435931,\n",
       "       0.11499572, 0.11965973, 0.11966159, 0.11976709, 0.12832907,\n",
       "       0.13066187, 0.13090169, 0.13244761, 0.13332936, 0.13834394,\n",
       "       0.13857506, 0.14255055, 0.14351297, 0.1473005 , 0.14730125,\n",
       "       0.14858924, 0.14889776, 0.14910972, 0.1545143 , 0.15646133,\n",
       "       0.15969147, 0.16004058, 0.16006988, 0.16820701, 0.1689521 ,\n",
       "       0.17203423, 0.17225987, 0.17438049, 0.17688836, 0.17803017,\n",
       "       0.19195742, 0.19363802, 0.20169175, 0.20529746, 0.20734927,\n",
       "       0.22469532, 0.2281387 , 0.22910895, 0.23591941, 0.23670451,\n",
       "       0.24391782, 0.24457006, 0.24726041, 0.26004118, 0.26905174,\n",
       "       0.28081055, 0.28620759, 0.29032717, 0.30218656, 0.31312505,\n",
       "       0.31931865, 0.33135024, 0.3393898 , 0.35753893, 0.36059092,\n",
       "       0.37604237, 0.40488223, 0.41099296, 0.41296389, 0.4244197 ,\n",
       "       0.43362642, 0.43373635, 0.46106116, 0.46335794, 0.4932297 ,\n",
       "       0.50849271, 0.51025882, 0.51280119, 0.52641464, 0.52887316,\n",
       "       0.53901496, 0.54302275, 0.55441825, 0.56415468, 0.56581024,\n",
       "       0.57242956, 0.58462611, 0.58588201, 0.58820749, 0.59601012,\n",
       "       0.59712876, 0.60230914, 0.62384809, 0.62600361, 0.62763738,\n",
       "       0.62918278, 0.63206865, 0.634479  , 0.63913845, 0.64474631,\n",
       "       0.64823263, 0.65667521, 0.68431283, 0.68715125, 0.70217422,\n",
       "       0.70279086, 0.7085237 , 0.73164429, 0.73510485, 0.75907445,\n",
       "       0.76029541, 0.76853845, 0.78296619, 0.78771041, 0.79307505,\n",
       "       0.79848311, 0.8133524 , 0.81992972, 0.82000275, 0.82447771,\n",
       "       0.83086515, 0.83238814, 0.83363739, 0.85638486, 0.89005133,\n",
       "       0.89392994, 0.89645038, 0.89853665, 0.90811947, 0.91263394,\n",
       "       0.91265868, 0.91266536, 0.91767936, 0.9209154 , 0.92172753,\n",
       "       0.92338563, 0.93370816, 0.93521807, 0.94532499, 0.94626415,\n",
       "       0.94669008, 0.95236504, 0.95508458, 0.96066457, 0.96633477,\n",
       "       0.96841855])"
      ]
     },
     "execution_count": 59,
     "metadata": {},
     "output_type": "execute_result"
    }
   ],
   "source": [
    "thresholds"
   ]
  },
  {
   "cell_type": "code",
   "execution_count": 60,
   "metadata": {},
   "outputs": [
    {
     "data": {
      "text/plain": [
       "(166,)"
      ]
     },
     "execution_count": 60,
     "metadata": {},
     "output_type": "execute_result"
    }
   ],
   "source": [
    "thresholds.shape"
   ]
  },
  {
   "cell_type": "code",
   "execution_count": 61,
   "metadata": {},
   "outputs": [
    {
     "data": {
      "text/plain": [
       "array([  0,  16,  32,  48,  64,  80,  96, 112, 128, 144, 160])"
      ]
     },
     "execution_count": 61,
     "metadata": {},
     "output_type": "execute_result"
    }
   ],
   "source": [
    "# 반환된 임계값이 166건 => 10건 추출\n",
    "thr_index = np.arange(0, thresholds.shape[0], 16)\n",
    "thr_index"
   ]
  },
  {
   "cell_type": "code",
   "execution_count": 62,
   "metadata": {},
   "outputs": [
    {
     "data": {
      "text/plain": [
       "array([0.39884393, 0.42038217, 0.47058824, 0.53781513, 0.61764706,\n",
       "       0.6744186 , 0.74285714, 0.81481481, 0.89473684, 1.        ,\n",
       "       1.        ])"
      ]
     },
     "execution_count": 62,
     "metadata": {},
     "output_type": "execute_result"
    }
   ],
   "source": [
    "# 정밀도 : precisions\n",
    "precisions[thr_index]"
   ]
  },
  {
   "cell_type": "code",
   "execution_count": 63,
   "metadata": {},
   "outputs": [
    {
     "data": {
      "text/plain": [
       "array([1.        , 0.95652174, 0.92753623, 0.92753623, 0.91304348,\n",
       "       0.84057971, 0.75362319, 0.63768116, 0.49275362, 0.31884058,\n",
       "       0.08695652])"
      ]
     },
     "execution_count": 63,
     "metadata": {},
     "output_type": "execute_result"
    }
   ],
   "source": [
    "recalls[thr_index]"
   ]
  },
  {
   "cell_type": "code",
   "execution_count": 64,
   "metadata": {},
   "outputs": [],
   "source": [
    "import matplotlib.pyplot as plt\n",
    "import matplotlib.ticker as ticker\n",
    "%matplotlib inline"
   ]
  },
  {
   "cell_type": "code",
   "execution_count": 69,
   "metadata": {},
   "outputs": [],
   "source": [
    "# precision_recall_curve 함수 : 시각화\n",
    "def precision_recall_curve_plot(y_test, pred_proba_p):\n",
    "    # 데스트데이터 답(y_test), 예측확률(pred_proba_p)\n",
    "    precisions, recalls, thresholds = \\\n",
    "    precision_recall_curve(y_test, pred_proba_p)\n",
    "    \n",
    "    # X축을 threshold값, Y축은 정밀도 값, 재현율 값\n",
    "    # 정밀도 점선으로 표시\n",
    "    plt.figure(figsize=(8,6))\n",
    "    thres_boundary = thresholds.shape[0]\n",
    "    \n",
    "    # 정밀도 \n",
    "    plt.plot(\n",
    "          thresholds # X축 들어갈 값 : 임계값\n",
    "        , precisions[0:thres_boundary] # Y 축에 들어갈 값 \n",
    "        , linestyle='--' # 점선\n",
    "        , label='precision' # 범례 : precision\n",
    "    )\n",
    "    \n",
    "    # 재현율\n",
    "    plt.plot(\n",
    "          thresholds # X축 들어갈 값 : 임계값\n",
    "        , recalls[0:thres_boundary] # Y 축에 들어갈 값 \n",
    "#         , linestyle='--' # 점선\n",
    "        , label='recall' # 범례 : recall\n",
    "    )\n",
    "    # X축의 Scale을 0.1 단위로 변경\n",
    "    # X축의 범위값을 가지고 함수 : xlim()\n",
    "    start, end = plt.xlim()\n",
    "    plt.xticks(np.round(np.arange(start, end, 0.1),2))\n",
    "    \n",
    "    # y축 라벨, X축 라벨\n",
    "    plt.xlabel('Threshold value')\n",
    "    plt.ylabel('Precision and Recall value')\n",
    "    \n",
    "    # 범례\n",
    "    plt.legend()\n",
    "    \n",
    "    # 그리드 \n",
    "    plt.grid()\n",
    "    plt.show()"
   ]
  },
  {
   "cell_type": "code",
   "execution_count": 66,
   "metadata": {},
   "outputs": [
    {
     "data": {
      "image/png": "[encoded data removed]",
      "text/plain": [
       "<Figure size 576x432 with 1 Axes>"
      ]
     },
     "metadata": {
      "needs_background": "light"
     },
     "output_type": "display_data"
    }
   ],
   "source": [
    "precision_recall_curve_plot(\n",
    "    y_test\n",
    "    , lr_clf.predict_proba(X_test)[:,1]\n",
    ")"
   ]
  },
  {
   "cell_type": "code",
   "execution_count": 68,
   "metadata": {},
   "outputs": [
    {
     "data": {
      "image/png": "[encoded data removed]",
      "text/plain": [
       "<Figure size 576x432 with 1 Axes>"
      ]
     },
     "metadata": {
      "needs_background": "light"
     },
     "output_type": "display_data"
    }
   ],
   "source": [
    "precision_recall_curve_plot(\n",
    "    y_test\n",
    "    , lr_clf.predict_proba(X_test)[:,1]\n",
    ")"
   ]
  },
  {
   "cell_type": "code",
   "execution_count": 70,
   "metadata": {},
   "outputs": [
    {
     "data": {
      "image/png": "[encoded data removed]",
      "text/plain": [
       "<Figure size 576x432 with 1 Axes>"
      ]
     },
     "metadata": {
      "needs_background": "light"
     },
     "output_type": "display_data"
    }
   ],
   "source": [
    "precision_recall_curve_plot(\n",
    "    y_test\n",
    "    , lr_clf.predict_proba(X_test)[:,1]\n",
    ")"
   ]
  },
  {
   "cell_type": "markdown",
   "metadata": {},
   "source": [
    "### F1 score"
   ]
  },
  {
   "cell_type": "code",
   "execution_count": 71,
   "metadata": {},
   "outputs": [
    {
     "data": {
      "text/plain": [
       "0.7571428571428571"
      ]
     },
     "execution_count": 71,
     "metadata": {},
     "output_type": "execute_result"
    }
   ],
   "source": [
    "from sklearn.metrics import f1_score\n",
    "\n",
    "f1 = f1_score(y_test, pred)\n",
    "f1"
   ]
  },
  {
   "cell_type": "code",
   "execution_count": 72,
   "metadata": {},
   "outputs": [],
   "source": [
    "# 결과 : 정확도, 오차행렬, 정밀도, 재현율\n",
    "# 파라미터(재료) : 원래답(y_test), 예측값(pred)\n",
    "def get_clf_eval(y_test, pred):\n",
    "    confusion = confusion_matrix(y_test, pred) # 오차행렬\n",
    "    accu = accuracy_score(y_test, pred) # 정확도\n",
    "    precision = precision_score(y_test, pred) # 정밀도\n",
    "    recall = recall_score(y_test, pred) # 재현율\n",
    "    \n",
    "    # F1-Score\n",
    "    f1 = f1_score(y_test, pred)\n",
    "    \n",
    "    print('오차 행렬')\n",
    "    print(confusion)\n",
    "    result = '정확도 : {0:.4f}, 정밀도 : {1:.4f}, 재현율 : {2:.4f}, F1 : {3:.4f}'\n",
    "    print(result.format(accu, precision, recall, f1))"
   ]
  },
  {
   "cell_type": "code",
   "execution_count": 73,
   "metadata": {},
   "outputs": [
    {
     "name": "stdout",
     "output_type": "stream",
     "text": [
      "현재 임계값 :  0.4\n",
      "오차 행렬\n",
      "[[86 24]\n",
      " [13 56]]\n",
      "정확도 : 0.7933, 정밀도 : 0.7000, 재현율 : 0.8116, F1 : 0.7517\n",
      "현재 임계값 :  0.45\n",
      "오차 행렬\n",
      "[[91 19]\n",
      " [14 55]]\n",
      "정확도 : 0.8156, 정밀도 : 0.7432, 재현율 : 0.7971, F1 : 0.7692\n",
      "현재 임계값 :  0.5\n",
      "오차 행렬\n",
      "[[92 18]\n",
      " [16 53]]\n",
      "정확도 : 0.8101, 정밀도 : 0.7465, 재현율 : 0.7681, F1 : 0.7571\n",
      "현재 임계값 :  0.55\n",
      "오차 행렬\n",
      "[[97 13]\n",
      " [18 51]]\n",
      "정확도 : 0.8268, 정밀도 : 0.7969, 재현율 : 0.7391, F1 : 0.7669\n",
      "현재 임계값 :  0.6\n",
      "오차 행렬\n",
      "[[99 11]\n",
      " [25 44]]\n",
      "정확도 : 0.7989, 정밀도 : 0.8000, 재현율 : 0.6377, F1 : 0.7097\n"
     ]
    }
   ],
   "source": [
    "thresholds = [0.4,0.45,0.50,0.55,0.60]\n",
    "pred_proba = lr_clf.predict_proba(X_test)[:,1].reshape(-1,1)\n",
    "\n",
    "get_eval_by_threshold(y_test, pred_proba, thresholds)"
   ]
  },
  {
   "cell_type": "markdown",
   "metadata": {},
   "source": [
    "### ROC Curve and AUC (점수)\n",
    "- ROC Curve : roc_curve()"
   ]
  },
  {
   "cell_type": "code",
   "execution_count": 74,
   "metadata": {},
   "outputs": [],
   "source": [
    "from sklearn.metrics import roc_curve"
   ]
  },
  {
   "cell_type": "code",
   "execution_count": 75,
   "metadata": {},
   "outputs": [],
   "source": [
    "# 1의 예측 확률\n",
    "pred_proba_v = lr_clf.predict_proba(X_test)[:,1]\n",
    "\n",
    "fprs, tprs, ths = roc_curve(\n",
    "      y_test\n",
    "    , pred_proba_v\n",
    ")"
   ]
  },
  {
   "cell_type": "code",
   "execution_count": 76,
   "metadata": {},
   "outputs": [
    {
     "data": {
      "text/plain": [
       "52"
      ]
     },
     "execution_count": 76,
     "metadata": {},
     "output_type": "execute_result"
    }
   ],
   "source": [
    "len(ths)"
   ]
  },
  {
   "cell_type": "code",
   "execution_count": 77,
   "metadata": {},
   "outputs": [],
   "source": [
    "# ROC Curve Chart function\n",
    "def roc_curve_plot(y_test, pred_proba_p):\n",
    "    fprs, tprs, ths = \\\n",
    "    roc_curve(y_test, pred_proba_p)\n",
    "    \n",
    "    plt.plot(fprs, tprs, label='ROC')\n",
    "    plt.grid()\n",
    "    plt.show()"
   ]
  },
  {
   "cell_type": "code",
   "execution_count": 79,
   "metadata": {},
   "outputs": [
    {
     "data": {
      "image/png": "[encoded data removed]",
      "text/plain": [
       "<Figure size 432x288 with 1 Axes>"
      ]
     },
     "metadata": {
      "needs_background": "light"
     },
     "output_type": "display_data"
    }
   ],
   "source": [
    "roc_curve_plot(\n",
    "    y_test\n",
    "    , pred_proba_v\n",
    ")"
   ]
  },
  {
   "cell_type": "code",
   "execution_count": 80,
   "metadata": {},
   "outputs": [
    {
     "data": {
      "text/plain": [
       "0.8022397891963109"
      ]
     },
     "execution_count": 80,
     "metadata": {},
     "output_type": "execute_result"
    }
   ],
   "source": [
    "# AUC \n",
    "from sklearn.metrics import roc_auc_score\n",
    "\n",
    "pred = lr_clf.predict(X_test)\n",
    "roc_score = roc_auc_score(y_test, pred)\n",
    "roc_score"
   ]
  },
  {
   "cell_type": "code",
   "execution_count": null,
   "metadata": {},
   "outputs": [],
   "source": []
  },
  {
   "cell_type": "code",
   "execution_count": null,
   "metadata": {},
   "outputs": [],
   "source": []
  },
  {
   "cell_type": "code",
   "execution_count": null,
   "metadata": {},
   "outputs": [],
   "source": []
  }
 ],
 "metadata": {
  "kernelspec": {
   "display_name": "ml01-02",
   "language": "python",
   "name": "ml01-02"
  },
  "language_info": {
   "codemirror_mode": {
    "name": "ipython",
    "version": 3
   },
   "file_extension": ".py",
   "mimetype": "text/x-python",
   "name": "python",
   "nbconvert_exporter": "python",
   "pygments_lexer": "ipython3",
   "version": "3.7.7"
  }
 },
 "nbformat": 4,
 "nbformat_minor": 4
}
