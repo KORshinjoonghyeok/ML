{
 "cells": [
  {
   "cell_type": "code",
   "execution_count": 1,
   "metadata": {},
   "outputs": [],
   "source": [
    "import numpy as np\n",
    "import pandas as pd\n",
    "import matplotlib.pyplot as plt\n",
    "%matplotlib inline"
   ]
  },
  {
   "cell_type": "code",
   "execution_count": 41,
   "metadata": {},
   "outputs": [
    {
     "name": "stdout",
     "output_type": "stream",
     "text": [
      "39\n",
      "6\n"
     ]
    }
   ],
   "source": [
    "#randint\n",
    "print(np.random.randint(46))\n",
    "print(np.random.randint(5,7))"
   ]
  },
  {
   "cell_type": "code",
   "execution_count": 81,
   "metadata": {},
   "outputs": [
    {
     "name": "stdout",
     "output_type": "stream",
     "text": [
      "[0.32104893 0.38607948 0.86000907 0.18800327 0.62483126 0.22749119]\n",
      "[[[0.95072722 0.56347711 0.41222434 0.74045172]\n",
      "  [0.15784244 0.78137447 0.10214991 0.03314557]\n",
      "  [0.19120839 0.78711053 0.64091732 0.44181697]]\n",
      "\n",
      " [[0.8673401  0.68696168 0.0389872  0.0136756 ]\n",
      "  [0.1130716  0.35588801 0.87498828 0.2115334 ]\n",
      "  [0.48471971 0.31452621 0.43508627 0.51175912]]\n",
      "\n",
      " [[0.22660495 0.49444645 0.62306126 0.34436335]\n",
      "  [0.49878199 0.52989532 0.31417674 0.56899882]\n",
      "  [0.53071089 0.14388122 0.64961865 0.41057343]]\n",
      "\n",
      " [[0.31626588 0.8297376  0.88927314 0.12545483]\n",
      "  [0.72167431 0.3266952  0.0317197  0.55627611]\n",
      "  [0.58402777 0.61086342 0.04913909 0.82861277]]\n",
      "\n",
      " [[0.18535757 0.16244147 0.99513569 0.37473322]\n",
      "  [0.51596968 0.49363277 0.97597249 0.53945115]\n",
      "  [0.21970576 0.85070133 0.0269821  0.3655858 ]]\n",
      "\n",
      " [[0.41556874 0.89381192 0.29325757 0.41200191]\n",
      "  [0.01418382 0.7123285  0.3506968  0.44776395]\n",
      "  [0.68685777 0.22936689 0.52857724 0.0227776 ]]]\n"
     ]
    }
   ],
   "source": [
    "print(np.random.rand(6))\n",
    "print(np.random.rand(6,3,4))"
   ]
  },
  {
   "cell_type": "code",
   "execution_count": 85,
   "metadata": {},
   "outputs": [
    {
     "name": "stdout",
     "output_type": "stream",
     "text": [
      "[[ 1.58915816 -0.5351555 ]\n",
      " [-0.15127981  0.06868551]\n",
      " [-1.59218772 -0.98264528]]\n"
     ]
    }
   ],
   "source": [
    "print(np.random.randn(3,2)) "
   ]
  },
  {
   "cell_type": "markdown",
   "metadata": {},
   "source": [
    "#### y = 4*X+6\n",
    "- fitable data & noise"
   ]
  },
  {
   "cell_type": "code",
   "execution_count": 127,
   "metadata": {},
   "outputs": [
    {
     "data": {
      "text/plain": [
       "array([[1.09762701],\n",
       "       [1.43037873],\n",
       "       [1.20552675],\n",
       "       [1.08976637],\n",
       "       [0.8473096 ],\n",
       "       [1.29178823],\n",
       "       [0.87517442],\n",
       "       [1.783546  ],\n",
       "       [1.92732552],\n",
       "       [0.76688304]])"
      ]
     },
     "execution_count": 127,
     "metadata": {},
     "output_type": "execute_result"
    }
   ],
   "source": [
    "np.random.seed(0)\n",
    "X = 2 * np.random.rand(100,1) # *2 for noise\n",
    "X[:10]"
   ]
  },
  {
   "cell_type": "code",
   "execution_count": 128,
   "metadata": {},
   "outputs": [],
   "source": [
    "y = 6 + 4 * X + np.random.randn(100,1) # randn for noise label"
   ]
  },
  {
   "cell_type": "code",
   "execution_count": 129,
   "metadata": {},
   "outputs": [
    {
     "data": {
      "text/plain": [
       "<matplotlib.collections.PathCollection at 0x1f74df31550>"
      ]
     },
     "execution_count": 129,
     "metadata": {},
     "output_type": "execute_result"
    },
    {
     "data": {
      "image/png": "[encoded data removed]",
      "text/plain": [
       "<Figure size 432x288 with 1 Axes>"
      ]
     },
     "metadata": {
      "needs_background": "light"
     },
     "output_type": "display_data"
    }
   ],
   "source": [
    "plt.scatter(X,y)"
   ]
  },
  {
   "cell_type": "markdown",
   "metadata": {},
   "source": [
    "###### W1, W2 update"
   ]
  },
  {
   "cell_type": "code",
   "execution_count": 130,
   "metadata": {},
   "outputs": [],
   "source": [
    "def get_w_updates(w1,w0,X,y,learning_rate=0.01):\n",
    "    N = len(y) #100\n",
    "    w1_update = np.zeros_like(w1)\n",
    "    w0_update = np.zeros_like(w0)\n",
    "    \n",
    "    y_pred = w0 + np.dot(X, w1.T)\n",
    "    \n",
    "    diff = y - y_pred\n",
    "    \n",
    "    w0_fact = np.ones((N,1))\n",
    "    \n",
    "    w1_update = -(2/N) * learning_rate * (np.dot(X.T,diff))\n",
    "    w0_update = -(2/N) * learning_rate * (np.dot(w0_fact.T,diff))\n",
    "\n",
    "    return w1_update, w0_update"
   ]
  },
  {
   "cell_type": "code",
   "execution_count": 131,
   "metadata": {},
   "outputs": [],
   "source": [
    "def gradient_descent_steps(X, y, iters=10000):\n",
    "    w0 = np.zeros((1,1))\n",
    "    w1 = np.zeros((1,1))\n",
    "    \n",
    "    for idx in range(iters):\n",
    "        w1_upd, w0_upd = \\\n",
    "        get_w_updates(w1,w0, X, y, learning_rate=0.01)\n",
    "        w1 = w1 - w1_upd\n",
    "        w0 = w0 - w0_upd\n",
    "    return w1,w0"
   ]
  },
  {
   "cell_type": "code",
   "execution_count": 132,
   "metadata": {},
   "outputs": [],
   "source": [
    "def get_cost(y, y_pred):\n",
    "    N = len(y)\n",
    "    cost = np.sum(np.square(y - y_pred)) / N\n",
    "    \n",
    "    return cost"
   ]
  },
  {
   "cell_type": "code",
   "execution_count": 133,
   "metadata": {},
   "outputs": [],
   "source": [
    "w1, w0 = gradient_descent_steps(X, y, iters=1000)"
   ]
  },
  {
   "cell_type": "code",
   "execution_count": 134,
   "metadata": {},
   "outputs": [
    {
     "name": "stdout",
     "output_type": "stream",
     "text": [
      "w1 : 4.022,  w0 : 4.022\n"
     ]
    }
   ],
   "source": [
    "print('w1 : {0:.3f},  w0 : {0:.3f}'.format(w1[0,0],w0[0,0]))"
   ]
  },
  {
   "cell_type": "code",
   "execution_count": 141,
   "metadata": {},
   "outputs": [],
   "source": [
    "y_pred = w1[0,0] * X + w0[0,0]"
   ]
  },
  {
   "cell_type": "code",
   "execution_count": 142,
   "metadata": {},
   "outputs": [
    {
     "data": {
      "text/plain": [
       "array([[10.5764825 ],\n",
       "       [11.91474793],\n",
       "       [11.01043516],\n",
       "       [10.54486846],\n",
       "       [ 9.56975253]])"
      ]
     },
     "execution_count": 142,
     "metadata": {},
     "output_type": "execute_result"
    }
   ],
   "source": [
    "y_pred[:5]"
   ]
  },
  {
   "cell_type": "code",
   "execution_count": 143,
   "metadata": {},
   "outputs": [
    {
     "data": {
      "text/plain": [
       "array([[ 9.22535819],\n",
       "       [12.62234142],\n",
       "       [11.28776945],\n",
       "       [ 8.82282178],\n",
       "       [10.87749059]])"
      ]
     },
     "execution_count": 143,
     "metadata": {},
     "output_type": "execute_result"
    }
   ],
   "source": [
    "y[:5]"
   ]
  },
  {
   "cell_type": "code",
   "execution_count": 144,
   "metadata": {},
   "outputs": [
    {
     "name": "stdout",
     "output_type": "stream",
     "text": [
      "전체 오차 : 0.9935\n"
     ]
    }
   ],
   "source": [
    "print('전체 오차 : {0:.4f}'.format(get_cost(y, y_pred)))"
   ]
  },
  {
   "cell_type": "code",
   "execution_count": 147,
   "metadata": {},
   "outputs": [
    {
     "data": {
      "text/plain": [
       "[<matplotlib.lines.Line2D at 0x1f7506dab50>]"
      ]
     },
     "execution_count": 147,
     "metadata": {},
     "output_type": "execute_result"
    },
    {
     "data": {
      "image/png": "[encoded data removed]",
      "text/plain": [
       "<Figure size 432x288 with 1 Axes>"
      ]
     },
     "metadata": {
      "needs_background": "light"
     },
     "output_type": "display_data"
    }
   ],
   "source": [
    "plt.scatter(X,y)\n",
    "plt.plot(X,y_pred, color = 'r')"
   ]
  },
  {
   "cell_type": "code",
   "execution_count": null,
   "metadata": {},
   "outputs": [],
   "source": []
  },
  {
   "cell_type": "code",
   "execution_count": null,
   "metadata": {},
   "outputs": [],
   "source": []
  }
 ],
 "metadata": {
  "kernelspec": {
   "display_name": "ML",
   "language": "python",
   "name": "ml"
  },
  "language_info": {
   "codemirror_mode": {
    "name": "ipython",
    "version": 3
   },
   "file_extension": ".py",
   "mimetype": "text/x-python",
   "name": "python",
   "nbconvert_exporter": "python",
   "pygments_lexer": "ipython3",
   "version": "3.8.5"
  }
 },
 "nbformat": 4,
 "nbformat_minor": 4
}
