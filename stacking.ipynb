{
 "cells": [
  {
   "cell_type": "code",
   "execution_count": 1,
   "metadata": {},
   "outputs": [
    {
     "name": "stderr",
     "output_type": "stream",
     "text": [
      "C:\\Users\\TJ\\anaconda3\\envs\\ml01-02\\lib\\importlib\\_bootstrap.py:219: RuntimeWarning: numpy.ufunc size changed, may indicate binary incompatibility. Expected 192 from C header, got 216 from PyObject\n",
      "  return f(*args, **kwds)\n"
     ]
    }
   ],
   "source": [
    "import numpy as np\n",
    "import pandas as pd\n",
    "\n",
    "from sklearn.neighbors import KNeighborsClassifier\n",
    "from sklearn.ensemble import RandomForestClassifier\n",
    "from sklearn.ensemble import AdaBoostClassifier\n",
    "from sklearn.tree import DecisionTreeClassifier\n",
    "from sklearn.linear_model import LogisticRegression\n",
    "import warnings\n",
    "warnings.filterwarnings('ignore')"
   ]
  },
  {
   "cell_type": "code",
   "execution_count": 2,
   "metadata": {},
   "outputs": [],
   "source": [
    "from sklearn.datasets import load_breast_cancer\n",
    "from sklearn.model_selection import train_test_split\n",
    "from sklearn.metrics import accuracy_score"
   ]
  },
  {
   "cell_type": "code",
   "execution_count": 3,
   "metadata": {},
   "outputs": [],
   "source": [
    "cancer_data = load_breast_cancer()\n",
    "\n",
    "X_data = cancer_data.data\n",
    "\n",
    "y_label = cancer_data.target\n",
    "\n",
    "X_train, X_test, y_train, y_test =\\\n",
    "train_test_split(\n",
    "      X_data\n",
    "    , y_label\n",
    "    , test_size=0.2\n",
    "    , random_state=0\n",
    ")"
   ]
  },
  {
   "cell_type": "code",
   "execution_count": 4,
   "metadata": {},
   "outputs": [],
   "source": [
    "knn_clf = KNeighborsClassifier(n_neighbors=4)\n",
    "rf_clf = RandomForestClassifier(n_estimators=100, random_state=0)\n",
    "dt_clf = DecisionTreeClassifier()\n",
    "ada_clf = AdaBoostClassifier(n_estimators=100)"
   ]
  },
  {
   "cell_type": "code",
   "execution_count": 5,
   "metadata": {},
   "outputs": [],
   "source": [
    "lr_clf = LogisticRegression(C=10)"
   ]
  },
  {
   "cell_type": "code",
   "execution_count": 9,
   "metadata": {},
   "outputs": [
    {
     "data": {
      "text/plain": [
       "AdaBoostClassifier(n_estimators=100)"
      ]
     },
     "execution_count": 9,
     "metadata": {},
     "output_type": "execute_result"
    }
   ],
   "source": [
    "knn_clf.fit(X_train, y_train)\n",
    "rf_clf.fit(X_train, y_train)\n",
    "dt_clf.fit(X_train, y_train)\n",
    "ada_clf.fit(X_train, y_train)"
   ]
  },
  {
   "cell_type": "code",
   "execution_count": 11,
   "metadata": {},
   "outputs": [
    {
     "data": {
      "text/plain": [
       "((455, 30), (114, 30))"
      ]
     },
     "execution_count": 11,
     "metadata": {},
     "output_type": "execute_result"
    }
   ],
   "source": [
    "X_train.shape, X_test.shape"
   ]
  },
  {
   "cell_type": "markdown",
   "metadata": {},
   "source": [
    "#### 각 모델의 예측값 추출"
   ]
  },
  {
   "cell_type": "code",
   "execution_count": 15,
   "metadata": {},
   "outputs": [
    {
     "data": {
      "text/plain": [
       "((114,), (114,), (114,), (114,))"
      ]
     },
     "execution_count": 15,
     "metadata": {},
     "output_type": "execute_result"
    }
   ],
   "source": [
    "knn_pred = knn_clf.predict(X_test)\n",
    "rf_pred = rf_clf.predict(X_test)\n",
    "dt_pred = dt_clf.predict(X_test)\n",
    "ada_pred = ada_clf.predict(X_test)\n",
    "knn_pred.shape, rf_pred.shape, dt_pred.shape, ada_pred.shape"
   ]
  },
  {
   "cell_type": "code",
   "execution_count": 17,
   "metadata": {},
   "outputs": [
    {
     "name": "stdout",
     "output_type": "stream",
     "text": [
      "KNN 정확도 : 0.9211\n",
      "RF 정확도 : 0.9649\n",
      "DT 정확도 : 0.9035\n",
      "ADA 정확도 : 0.9561\n"
     ]
    }
   ],
   "source": [
    "# 각 모델의 예측값 출력\n",
    "print('KNN 정확도 : {0:.4f}'.format(accuracy_score(y_test, knn_pred)))\n",
    "print('RF 정확도 : {0:.4f}'.format(accuracy_score(y_test, rf_pred)))\n",
    "print('DT 정확도 : {0:.4f}'.format(accuracy_score(y_test, dt_pred)))\n",
    "print('ADA 정확도 : {0:.4f}'.format(accuracy_score(y_test, ada_pred)))"
   ]
  },
  {
   "cell_type": "code",
   "execution_count": 18,
   "metadata": {},
   "outputs": [],
   "source": [
    "# 각 모델 예측 결과 합치기\n",
    "pred = np.array([\n",
    "      knn_pred\n",
    "    , rf_pred\n",
    "    , dt_pred\n",
    "    , ada_pred\n",
    "])"
   ]
  },
  {
   "cell_type": "code",
   "execution_count": 19,
   "metadata": {},
   "outputs": [
    {
     "data": {
      "text/plain": [
       "(4, 114)"
      ]
     },
     "execution_count": 19,
     "metadata": {},
     "output_type": "execute_result"
    }
   ],
   "source": [
    "pred.shape"
   ]
  },
  {
   "cell_type": "code",
   "execution_count": 20,
   "metadata": {},
   "outputs": [
    {
     "data": {
      "text/plain": [
       "(114, 4)"
      ]
     },
     "execution_count": 20,
     "metadata": {},
     "output_type": "execute_result"
    }
   ],
   "source": [
    "pred = np.transpose(pred)\n",
    "pred.shape"
   ]
  },
  {
   "cell_type": "code",
   "execution_count": 24,
   "metadata": {},
   "outputs": [
    {
     "name": "stdout",
     "output_type": "stream",
     "text": [
      "0.9736842105263158\n"
     ]
    }
   ],
   "source": [
    "lr_clf.fit(pred, y_test)\n",
    "\n",
    "final = lr_clf.predict(pred)\n",
    "\n",
    "print(accuracy_score(y_test,final))"
   ]
  },
  {
   "cell_type": "code",
   "execution_count": 25,
   "metadata": {},
   "outputs": [],
   "source": [
    "from sklearn.model_selection import KFold\n",
    "from sklearn.metrics import mean_absolute_error "
   ]
  },
  {
   "cell_type": "code",
   "execution_count": 26,
   "metadata": {},
   "outputs": [],
   "source": [
    "def get_stacking_base_datasets(  model   \n",
    "                               , X_train_p \n",
    "                               , y_train_p \n",
    "                               , X_test_p   \n",
    "                               , folds_p   \n",
    "                              ):\n",
    "    kf = KFold(\n",
    "          n_splits=folds_p\n",
    "        , shuffle=False\n",
    "        , random_state=0\n",
    "    )\n",
    "    train_fold_pred =np.zeros((X_train_p.shape[0],1))\n",
    "\n",
    "    test_pred = np.zeros((X_test_p.shape[0], folds_p))\n",
    "    \n",
    "    print(model.__class__.__name__, ' model 시작')\n",
    "\n",
    "    for folder_counter, (train_index, valid_index) in enumerate(kf.split(X_train_p)):\n",
    "        print('\\t 폴드 세트: ', folder_counter, '시작')\n",
    "        X_train_v = X_train_p[train_index] \n",
    "        y_train_v = y_train_p[train_index] \n",
    "        X_test_v = X_train_p[valid_index] \n",
    "        \n",
    "        model.fit(X_train_v, y_train_v)\n",
    "        \n",
    "        train_fold_pred[valid_index,:] = model.predict(X_test_v).reshape(-1,1)\n",
    "\n",
    "        test_pred[:, folder_counter] = model.predict(X_test_p)\n",
    "\n",
    "    test_pred_mean = np.mean(test_pred, axis=1).reshape(-1,1)\n",
    "    \n",
    "    return train_fold_pred, test_pred_mean"
   ]
  },
  {
   "cell_type": "code",
   "execution_count": 27,
   "metadata": {},
   "outputs": [
    {
     "name": "stdout",
     "output_type": "stream",
     "text": [
      "KNeighborsClassifier  model 시작\n",
      "\t 폴드 세트:  0 시작\n",
      "\t 폴드 세트:  1 시작\n",
      "\t 폴드 세트:  2 시작\n",
      "\t 폴드 세트:  3 시작\n",
      "\t 폴드 세트:  4 시작\n",
      "\t 폴드 세트:  5 시작\n",
      "\t 폴드 세트:  6 시작\n"
     ]
    }
   ],
   "source": [
    "knn_train, knn_test = get_stacking_base_datasets(\n",
    "      knn_clf\n",
    "    , X_train\n",
    "    , y_train\n",
    "    , X_test\n",
    "    , 7\n",
    ")"
   ]
  },
  {
   "cell_type": "code",
   "execution_count": 29,
   "metadata": {},
   "outputs": [
    {
     "name": "stdout",
     "output_type": "stream",
     "text": [
      "RandomForestClassifier  model 시작\n",
      "\t 폴드 세트:  0 시작\n",
      "\t 폴드 세트:  1 시작\n",
      "\t 폴드 세트:  2 시작\n",
      "\t 폴드 세트:  3 시작\n",
      "\t 폴드 세트:  4 시작\n",
      "\t 폴드 세트:  5 시작\n",
      "\t 폴드 세트:  6 시작\n"
     ]
    }
   ],
   "source": [
    "rf_train, rf_test = get_stacking_base_datasets(\n",
    "      rf_clf\n",
    "    , X_train\n",
    "    , y_train\n",
    "    , X_test\n",
    "    , 7\n",
    ")"
   ]
  },
  {
   "cell_type": "code",
   "execution_count": 30,
   "metadata": {},
   "outputs": [
    {
     "name": "stdout",
     "output_type": "stream",
     "text": [
      "DecisionTreeClassifier  model 시작\n",
      "\t 폴드 세트:  0 시작\n",
      "\t 폴드 세트:  1 시작\n",
      "\t 폴드 세트:  2 시작\n",
      "\t 폴드 세트:  3 시작\n",
      "\t 폴드 세트:  4 시작\n",
      "\t 폴드 세트:  5 시작\n",
      "\t 폴드 세트:  6 시작\n"
     ]
    }
   ],
   "source": [
    "dt_train, dt_test = get_stacking_base_datasets(\n",
    "      dt_clf\n",
    "    , X_train\n",
    "    , y_train\n",
    "    , X_test\n",
    "    , 7\n",
    ")"
   ]
  },
  {
   "cell_type": "code",
   "execution_count": 31,
   "metadata": {},
   "outputs": [
    {
     "name": "stdout",
     "output_type": "stream",
     "text": [
      "AdaBoostClassifier  model 시작\n",
      "\t 폴드 세트:  0 시작\n",
      "\t 폴드 세트:  1 시작\n",
      "\t 폴드 세트:  2 시작\n",
      "\t 폴드 세트:  3 시작\n",
      "\t 폴드 세트:  4 시작\n",
      "\t 폴드 세트:  5 시작\n",
      "\t 폴드 세트:  6 시작\n"
     ]
    }
   ],
   "source": [
    "ada_train, ada_test = get_stacking_base_datasets(\n",
    "      ada_clf\n",
    "    , X_train\n",
    "    , y_train\n",
    "    , X_test\n",
    "    , 7\n",
    ")"
   ]
  },
  {
   "cell_type": "code",
   "execution_count": 34,
   "metadata": {},
   "outputs": [],
   "source": [
    "stack_X_train = np.concatenate(\n",
    "      (knn_train,rf_train,dt_train,ada_train)\n",
    "    , axis=1\n",
    ")\n",
    "\n",
    "stack_X_test = np.concatenate(\n",
    "      (knn_test,rf_test,dt_test,ada_test)\n",
    "    , axis=1\n",
    ")"
   ]
  },
  {
   "cell_type": "code",
   "execution_count": 35,
   "metadata": {},
   "outputs": [
    {
     "data": {
      "text/plain": [
       "((455, 30), (114, 30))"
      ]
     },
     "execution_count": 35,
     "metadata": {},
     "output_type": "execute_result"
    }
   ],
   "source": [
    "X_train.shape, X_test.shape"
   ]
  },
  {
   "cell_type": "code",
   "execution_count": 36,
   "metadata": {},
   "outputs": [
    {
     "data": {
      "text/plain": [
       "((455, 4), (114, 4))"
      ]
     },
     "execution_count": 36,
     "metadata": {},
     "output_type": "execute_result"
    }
   ],
   "source": [
    "stack_X_train.shape, stack_X_test.shape"
   ]
  },
  {
   "cell_type": "markdown",
   "metadata": {},
   "source": [
    "### 최종 모델 학습 생성"
   ]
  },
  {
   "cell_type": "code",
   "execution_count": 38,
   "metadata": {},
   "outputs": [
    {
     "name": "stdout",
     "output_type": "stream",
     "text": [
      "최종 정확도 : 0.9737\n"
     ]
    }
   ],
   "source": [
    "lr_clf.fit(stack_X_train, y_train)\n",
    "\n",
    "stack_pred = lr_clf.predict(stack_X_test)\n",
    "\n",
    "stack_accu = accuracy_score(y_test, stack_pred)\n",
    "print('최종 정확도 : {0:.4f}'.format(stack_accu))"
   ]
  },
  {
   "cell_type": "code",
   "execution_count": null,
   "metadata": {},
   "outputs": [],
   "source": []
  }
 ],
 "metadata": {
  "kernelspec": {
   "display_name": "ml01-02",
   "language": "python",
   "name": "ml01-02"
  },
  "language_info": {
   "codemirror_mode": {
    "name": "ipython",
    "version": 3
   },
   "file_extension": ".py",
   "mimetype": "text/x-python",
   "name": "python",
   "nbconvert_exporter": "python",
   "pygments_lexer": "ipython3",
   "version": "3.7.7"
  }
 },
 "nbformat": 4,
 "nbformat_minor": 4
}
